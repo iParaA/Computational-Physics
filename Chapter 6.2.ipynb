{
 "cells": [
  {
   "cell_type": "markdown",
   "id": "e6a5428b",
   "metadata": {},
   "source": [
    "#  Chapter 6, Part 2\n",
    "\n",
    "Problems 10, 12, 13, 14, 15, 16, 18, 11"
   ]
  },
  {
   "cell_type": "markdown",
   "id": "2b5e0b90",
   "metadata": {},
   "source": [
    "## 6.10"
   ]
  },
  {
   "cell_type": "code",
   "execution_count": 1,
   "id": "47c0da37",
   "metadata": {},
   "outputs": [
    {
     "name": "stdout",
     "output_type": "stream",
     "text": [
      "x = 0.7968126311118457\n"
     ]
    }
   ],
   "source": [
    "# part a\n",
    "import math\n",
    "\n",
    "c = 2\n",
    "accuracy = 1e-6\n",
    "\n",
    "def solve(c, accuracy):\n",
    "    x_old = 0\n",
    "    x = 1\n",
    "    while abs(x - x_old) > accuracy:\n",
    "        x_old = x\n",
    "        x = 1 - math.exp(-c*x_old)\n",
    "    return x\n",
    "\n",
    "sol = solve(c, accuracy)\n",
    "\n",
    "print(\"x =\", sol)"
   ]
  },
  {
   "cell_type": "code",
   "execution_count": 2,
   "id": "347ea550",
   "metadata": {},
   "outputs": [
    {
     "data": {
      "image/png": "[encoded data removed]",
      "text/plain": [
       "<Figure size 640x480 with 1 Axes>"
      ]
     },
     "metadata": {},
     "output_type": "display_data"
    }
   ],
   "source": [
    "# part b\n",
    "import numpy as np\n",
    "import matplotlib.pyplot as plt\n",
    "import math\n",
    "\n",
    "def solve(c, accuracy):\n",
    "    x_old = 0\n",
    "    x = 1\n",
    "    while abs(x - x_old) > accuracy:\n",
    "        x_old = x\n",
    "        x = 1 - math.exp(-c*x_old)\n",
    "    return x\n",
    "\n",
    "c_vals = np.arange(0, 3.01, 0.01)\n",
    "x_vals = []\n",
    "\n",
    "for c in c_vals:\n",
    "    sol = solve(c, 1e-6)\n",
    "    x_vals.append(sol)\n",
    "\n",
    "plt.plot(c_vals, x_vals)\n",
    "plt.xlabel('c')\n",
    "plt.ylabel('x')\n",
    "plt.show()"
   ]
  },
  {
   "cell_type": "markdown",
   "id": "aedca2c9",
   "metadata": {},
   "source": [
    "## 6.12"
   ]
  },
  {
   "cell_type": "code",
   "execution_count": 3,
   "id": "44eeae8a",
   "metadata": {},
   "outputs": [
    {
     "name": "stdout",
     "output_type": "stream",
     "text": [
      "Stationary Point = Fails to converge\n"
     ]
    }
   ],
   "source": [
    "# part a in pdf\n",
    "\n",
    "# part b\n",
    "def f1(x, y, a):\n",
    "    return -x+a*y+x**2*y\n",
    "\n",
    "def f2(x, y, a, b):\n",
    "    return b-a*y-x**2*y\n",
    "\n",
    "def stationary_point(a, b, initial_guess=(0.1, 0.1), accuracy=1e-6, N=1000):\n",
    "    x, y = initial_guess\n",
    "    for i in range(N):\n",
    "        x_new = y*(a + x**2)\n",
    "        y_new = b/(a + x**2)\n",
    "        if abs(x_new - x) < accuracy and abs(y_new - y) < accuracy:\n",
    "            return x_new, y_new\n",
    "        x, y = x_new, y_new\n",
    "    return \"Fails to converge\"\n",
    "\n",
    "a = 1\n",
    "b = 2\n",
    "stationary_point_result = stationary_point(a, b)\n",
    "print(\"Stationary Point =\", stationary_point_result)"
   ]
  },
  {
   "cell_type": "code",
   "execution_count": 4,
   "id": "7af16684",
   "metadata": {},
   "outputs": [
    {
     "name": "stdout",
     "output_type": "stream",
     "text": [
      "Stationary Point = 1.0 0.5\n"
     ]
    }
   ],
   "source": [
    "# part c (the re-arranging is in pdf)\n",
    "\n",
    "def f(x, a, b):\n",
    "    return b-(a*x)/(a+x**2)-(x**3)/(a+x**2)\n",
    "\n",
    "def find_stationary_point(a, b, initial_guesses=[0.1, 0.5, 1.0, 1.5], accuracy=1e-6, N=1000):\n",
    "    for initial_guess in initial_guesses:\n",
    "        x = initial_guess\n",
    "        for _ in range(N):\n",
    "            x_new = f(x, a, b)\n",
    "            if abs(x_new - x) < accuracy:\n",
    "                return x_new\n",
    "            x = x_new\n",
    "    print(\"Point not Found.\")\n",
    "    return None\n",
    "\n",
    "a = 1\n",
    "b = 2\n",
    "stationary_point_result = find_stationary_point(a, b)\n",
    "if stationary_point_result is not None:\n",
    "    y = stationary_point_result / (a + stationary_point_result**2)\n",
    "    print(\"Stationary Point =\", stationary_point_result, y)"
   ]
  },
  {
   "cell_type": "markdown",
   "id": "116fe687",
   "metadata": {},
   "source": [
    "## 6.13"
   ]
  },
  {
   "cell_type": "code",
   "execution_count": 5,
   "id": "a6f371d9",
   "metadata": {},
   "outputs": [
    {
     "name": "stdout",
     "output_type": "stream",
     "text": [
      "Displacement constant = 0.0014384322363527385\n"
     ]
    }
   ],
   "source": [
    "# part a in pdf\n",
    "\n",
    "# part b\n",
    "import math\n",
    "\n",
    "def f(x):\n",
    "    return 5*math.exp(-x) + x - 5\n",
    "\n",
    "def search(f, a, b, epsilon):\n",
    "    if f(a) * f(b) > 0:\n",
    "        return None  \n",
    "    while (b - a) / 2 > epsilon:\n",
    "        midpoint = (a + b) / 2\n",
    "        if f(midpoint) == 0:\n",
    "            return midpoint\n",
    "        elif f(a) * f(midpoint) < 0:\n",
    "            b = midpoint\n",
    "        else:\n",
    "            a = midpoint\n",
    "    return (a + b) / 2\n",
    "\n",
    "def displacement_constant(epsilon):\n",
    "    x = search(f, 0, 10, epsilon)\n",
    "    if x is not None:\n",
    "        h = 6.626e-34  # Planck's constant\n",
    "        c = 2.998e8  # speed of light\n",
    "        kB = 1.381e-23  # Boltzmann's constant\n",
    "        return h*c/(kB*x)\n",
    "    else:\n",
    "        return None\n",
    "\n",
    "epsilon = 1e-6 # wanted accuracy\n",
    "displacement = displacement_constant(epsilon)\n",
    "if displacement is not None:\n",
    "    print(\"Displacement constant =\", displacement)\n",
    "else:\n",
    "    print(\"Constant not found\")"
   ]
  },
  {
   "cell_type": "code",
   "execution_count": 6,
   "id": "aa0bae60",
   "metadata": {},
   "outputs": [
    {
     "name": "stdout",
     "output_type": "stream",
     "text": [
      "Estimated surface temperature of the Sun is 2865.40 K\n"
     ]
    }
   ],
   "source": [
    "# part c\n",
    "\n",
    "wavelength_peak = 502e-9  # given\n",
    "displacement_constant = displacement\n",
    "\n",
    "surface_temperature = displacement_constant / wavelength_peak\n",
    "print(\"Estimated surface temperature of the Sun is {:.2f} K\".format(surface_temperature))"
   ]
  },
  {
   "cell_type": "markdown",
   "id": "0b01c5d8",
   "metadata": {},
   "source": [
    "## 6.14"
   ]
  },
  {
   "cell_type": "code",
   "execution_count": 7,
   "id": "c892a11c",
   "metadata": {},
   "outputs": [
    {
     "name": "stderr",
     "output_type": "stream",
     "text": [
      "C:\\Users\\hello\\AppData\\Local\\Temp\\ipykernel_2316\\2629106157.py:16: RuntimeWarning: divide by zero encountered in divide\n",
      "  return np.sqrt((V-E)/E)\n",
      "C:\\Users\\hello\\AppData\\Local\\Temp\\ipykernel_2316\\2629106157.py:16: RuntimeWarning: invalid value encountered in sqrt\n",
      "  return np.sqrt((V-E)/E)\n",
      "C:\\Users\\hello\\AppData\\Local\\Temp\\ipykernel_2316\\2629106157.py:19: RuntimeWarning: invalid value encountered in sqrt\n",
      "  return -np.sqrt(E/(V-E))\n"
     ]
    },
    {
     "data": {
      "image/png": "[encoded data removed]",
      "text/plain": [
       "<Figure size 640x480 with 1 Axes>"
      ]
     },
     "metadata": {},
     "output_type": "display_data"
    }
   ],
   "source": [
    "# part a\n",
    "\n",
    "import numpy as np\n",
    "import matplotlib.pyplot as plt\n",
    "\n",
    "# Constants\n",
    "m = 9.11e-31  # Mass of electron (kg)\n",
    "h_bar = 1.05e-34  \n",
    "V = 20 * 1.602e-19  # (J)\n",
    "w = 1e-9  # width (m)\n",
    "\n",
    "def y1(E):\n",
    "    return np.tan(np.sqrt((2*m*E*w**2) / (2*h_bar**2)))\n",
    "\n",
    "def y2(E):\n",
    "    return np.sqrt((V-E)/E)\n",
    "\n",
    "def y3(E):\n",
    "    return -np.sqrt(E/(V-E))\n",
    "\n",
    "E_values = np.linspace(0, 20 * 1.60218e-19, 100)  # Energies from 0 to 20 eV in Joules\n",
    "\n",
    "y1_values = y1(E_values)\n",
    "y2_values = y2(E_values)\n",
    "y3_values = y3(E_values)\n",
    "\n",
    "plt.plot(E_values, y1_values, label='tan(root(2w^2mE/2ħ^2)')\n",
    "plt.plot(E_values, y2_values, label='even numbered states')\n",
    "plt.plot(E_values, y3_values, label='odd numbered states')\n",
    "plt.xlabel('Energy (J)')\n",
    "plt.ylabel('Value')\n",
    "plt.legend()\n",
    "plt.show()\n"
   ]
  },
  {
   "cell_type": "code",
   "execution_count": 8,
   "id": "b48d5990",
   "metadata": {},
   "outputs": [],
   "source": [
    "#part a\n",
    "\n",
    "#Ground state: E = 3e-19 J\n",
    "#State 1:      E = 7e-19 J\n",
    "#State 2:      E = 1.11e-18 J\n",
    "#State 3:      E = 1.50e-18 J\n",
    "#State 4:      E = 1.80e-18 J\n",
    "#State 5:      E = 2e-18 J"
   ]
  },
  {
   "cell_type": "code",
   "execution_count": 9,
   "id": "323a856f",
   "metadata": {},
   "outputs": [
    {
     "name": "stdout",
     "output_type": "stream",
     "text": [
      "First six energy levels (eV):\n",
      "Energy level 1: 10.005 eV\n",
      "Energy level 2: 15.008 eV\n",
      "Energy level 3: 17.509 eV\n",
      "Energy level 4: 18.759 eV\n",
      "Energy level 5: 19.385 eV\n",
      "Energy level 6: 19.697 eV\n"
     ]
    }
   ],
   "source": [
    "# part b\n",
    "\n",
    "# same as part a ########\n",
    "import numpy as np\n",
    "import matplotlib.pyplot as plt\n",
    "\n",
    "# Constants\n",
    "m = 9.11e-31  # Mass of electron (kg)\n",
    "h_bar = 1.05e-34  \n",
    "V = 20 * 1.602e-19  # (J)\n",
    "w = 1e-9  # width (m)\n",
    "\n",
    "def y1(E):\n",
    "    return np.tan(np.sqrt((2*m*E*w**2) / (2*h_bar**2)))\n",
    "\n",
    "def y2(E):\n",
    "    return np.sqrt((V-E)/E)\n",
    "\n",
    "def y3(E):\n",
    "    return -np.sqrt(E/(V-E))\n",
    "########\n",
    "\n",
    "def binary_search(func, low, high, tolerance=1e-6):\n",
    "    while high - low > tolerance:\n",
    "        mid = (low + high) / 2\n",
    "        if func(mid) < 0:\n",
    "            low = mid\n",
    "        else:\n",
    "            high = mid\n",
    "    return (low + high) / 2\n",
    "\n",
    "energies_eV = []\n",
    "intersections_found = 0\n",
    "E_guess = 0.01 * 1.602e-19  # Initial guess for energy in J\n",
    "\n",
    "while intersections_found < 6:\n",
    "    if intersections_found % 2 == 0:\n",
    "        intersection = binary_search(lambda E: y1(E) - y2(E), E_guess, V)\n",
    "    else:\n",
    "        intersection = binary_search(lambda E: y1(E) - y3(E), E_guess, V)\n",
    "    energies_eV.append(intersection / 1.602e-19)  # convert to eV as problem asks\n",
    "    intersections_found += 1\n",
    "    E_guess = intersection + 0.01 * 1.602e-19  # update guess\n",
    "\n",
    "print(\"First six energy levels (eV):\")\n",
    "for i, energy in enumerate(energies_eV):\n",
    "    print(f\"Energy level {i+1}: {energy:.3f} eV\") # accuracy of 0.001 as asked"
   ]
  },
  {
   "cell_type": "markdown",
   "id": "5593ffa8",
   "metadata": {},
   "source": [
    "## 6.15"
   ]
  },
  {
   "cell_type": "code",
   "execution_count": 10,
   "id": "64718835",
   "metadata": {},
   "outputs": [
    {
     "data": {
      "image/png": "[encoded data removed]",
      "text/plain": [
       "<Figure size 640x480 with 1 Axes>"
      ]
     },
     "metadata": {},
     "output_type": "display_data"
    }
   ],
   "source": [
    "# part a\n",
    "import numpy as np\n",
    "import matplotlib.pyplot as plt\n",
    "\n",
    "def P(x):\n",
    "    return 924*x**6 - 2772*x**5 + 3150*x**4 - 1680*x**3 + 420*x**2 - 42*x + 1\n",
    "\n",
    "x_values = np.linspace(0, 1, 1000)\n",
    "y_values = P(x_values)\n",
    "\n",
    "plt.plot(x_values, y_values, label='P(x)')\n",
    "plt.xlabel('x')\n",
    "plt.ylabel('P(x)')\n",
    "plt.show()"
   ]
  },
  {
   "cell_type": "code",
   "execution_count": 11,
   "id": "018a18bd",
   "metadata": {},
   "outputs": [
    {
     "name": "stdout",
     "output_type": "stream",
     "text": [
      "Root 1: 0.9662347571\n",
      "Root 2: 0.3806904070\n",
      "Root 3: 0.8306046932\n",
      "Root 4: 0.0337652429\n",
      "Root 5: 0.9662347571\n",
      "Root 6: 0.6193095930\n"
     ]
    }
   ],
   "source": [
    "# part b\n",
    "import numpy as np\n",
    "\n",
    "def P(x):\n",
    "    return 924*x**6 - 2772*x**5 + 3150*x**4 - 1680*x**3 + 420*x**2 - 42*x + 1\n",
    "\n",
    "def dP(x): #derivative\n",
    "    return 5544*x**5 - 13860*x**4 + 12600*x**3 - 5040*x**2 + 840*x - 42\n",
    "\n",
    "# finding roots\n",
    "def find_roots(f, df, x0, accuracy=1e-10, N=1000): # accuracy = 10th decimal place\n",
    "    x = x0\n",
    "    for _ in range(N):\n",
    "        fx = f(x)\n",
    "        if abs(fx) < accuracy:\n",
    "            return x\n",
    "        dfx = df(x)\n",
    "        if dfx == 0:\n",
    "            break\n",
    "        x = x - fx / dfx\n",
    "    return None\n",
    "\n",
    "roots = [] # find the roots\n",
    "for _ in range(6):\n",
    "    root = find_roots(P, dP, np.random.random())\n",
    "    if root is not None:\n",
    "        roots.append(root)\n",
    "\n",
    "for i, root in enumerate(roots): #printing the roots\n",
    "    print(f\"Root {i+1}: {root:.10f}\")\n"
   ]
  },
  {
   "cell_type": "markdown",
   "id": "f7fc353a",
   "metadata": {},
   "source": [
    "## 6.16"
   ]
  },
  {
   "cell_type": "code",
   "execution_count": 12,
   "id": "2abfc18e",
   "metadata": {},
   "outputs": [
    {
     "name": "stdout",
     "output_type": "stream",
     "text": [
      "r = 326045071.66535544 m\n"
     ]
    }
   ],
   "source": [
    "#part a in pdf\n",
    "\n",
    "#part b\n",
    "\n",
    "# constants\n",
    "G = 6.674 * 10**-11  # m^3/kg/s^2\n",
    "M = 5.974 * 10**24   # kg\n",
    "m = 7.348 * 10**22   # kg\n",
    "R = 3.844 * 10**8    # m\n",
    "omega = 2.662 * 10**-6  # s^-1\n",
    "\n",
    "def f(r):\n",
    "    return G * M / r**2 - G * m / (R - r)**2 - omega**2 * r\n",
    "\n",
    "def secant_method(f, x0, x1, tol=1e-8, max_iter=1000):\n",
    "    for _ in range(max_iter):\n",
    "        x_next = x1 - f(x1) * (x1 - x0) / (f(x1) - f(x0))\n",
    "        if abs(x_next - x1) < tol:\n",
    "            return x_next\n",
    "        x0, x1 = x1, x_next\n",
    "    raise ValueError(\"Did not converge\")\n",
    "\n",
    "# Initial guesses for r\n",
    "x0 = R / 4\n",
    "x1 = R / 3\n",
    "\n",
    "# Solve using secant method\n",
    "solution = secant_method(f, x0, x1)\n",
    "\n",
    "print(\"r =\", solution, \"m\")"
   ]
  },
  {
   "cell_type": "markdown",
   "id": "a22327c1",
   "metadata": {},
   "source": [
    "## 6.18"
   ]
  },
  {
   "cell_type": "code",
   "execution_count": 13,
   "id": "93cde5bf",
   "metadata": {
    "scrolled": false
   },
   "outputs": [
    {
     "name": "stderr",
     "output_type": "stream",
     "text": [
      "C:\\Users\\hello\\AppData\\Local\\Temp\\ipykernel_2316\\3792871780.py:19: RuntimeWarning: overflow encountered in exp\n",
      "  integrand = lambda x: x**3 / (np.exp(x) - 1)\n"
     ]
    },
    {
     "data": {
      "image/png": "[encoded data removed]",
      "text/plain": [
       "<Figure size 640x480 with 1 Axes>"
      ]
     },
     "metadata": {},
     "output_type": "display_data"
    }
   ],
   "source": [
    "# part a\n",
    "import numpy as np\n",
    "import scipy.integrate as spi\n",
    "import matplotlib.pyplot as plt\n",
    "\n",
    "# constants\n",
    "h = 6.626e-34  # Planck's constant\n",
    "c = 2.998e8  # Speed of light\n",
    "kB = 1.381e-23  # Boltzmann's constant\n",
    "λ1 = 390e-9 \n",
    "λ2 = 750e-9\n",
    "\n",
    "def I(λ, T): # equation\n",
    "    x = h * c / (λ * kB * T)\n",
    "    return 2 * np.pi * h * c**2 / λ**5 / (np.exp(x) - 1)\n",
    "\n",
    "# efficiency function\n",
    "def efficiency(T):\n",
    "    integrand = lambda x: x**3 / (np.exp(x) - 1)\n",
    "    numerator, _ = spi.quad(integrand, h * c / (λ2 * kB * T), h * c / (λ1 * kB * T))\n",
    "    denominator, _ = spi.quad(integrand, 0, np.inf)\n",
    "    return (15 / np.pi**4) * numerator / denominator\n",
    "\n",
    "\n",
    "temperatures = np.linspace(300, 10000, 100)\n",
    "efficiencies = [efficiency(T) for T in temperatures]\n",
    "plt.plot(temperatures, efficiencies)\n",
    "plt.xlabel('Temperature (K)')\n",
    "plt.ylabel('Efficiency')\n",
    "plt.show()"
   ]
  },
  {
   "cell_type": "code",
   "execution_count": 14,
   "id": "945bc065",
   "metadata": {},
   "outputs": [
    {
     "name": "stdout",
     "output_type": "stream",
     "text": [
      "Maximum efficiency temp is: 6926.92 K\n"
     ]
    },
    {
     "name": "stderr",
     "output_type": "stream",
     "text": [
      "C:\\Users\\hello\\AppData\\Local\\Temp\\ipykernel_2316\\18061963.py:18: RuntimeWarning: overflow encountered in exp\n",
      "  integrand = lambda x: x**3 / (np.exp(x) - 1)\n"
     ]
    }
   ],
   "source": [
    "# part b\n",
    "import numpy as np\n",
    "import scipy.integrate as spi\n",
    "\n",
    "# constants\n",
    "h = 6.626e-34  # Planck's constant\n",
    "c = 2.998e8  # Speed of light\n",
    "kB = 1.381e-23  # Boltzmann's constant\n",
    "λ1 = 390e-9 \n",
    "λ2 = 750e-9\n",
    "\n",
    "def efficiency(T):\n",
    "    # integration limits\n",
    "    x_min = h * c / (λ2 * kB * T)\n",
    "    x_max = h * c / (λ1 * kB * T)\n",
    "    \n",
    "    # integrate\n",
    "    integrand = lambda x: x**3 / (np.exp(x) - 1)\n",
    "    numerator, _ = spi.quad(integrand, x_min, x_max)\n",
    "    denominator, _ = spi.quad(integrand, 0, np.inf)\n",
    "    \n",
    "    return -(15 / np.pi**4) * numerator / denominator\n",
    "\n",
    "# Golden ratio search\n",
    "def golden_ratio_search(func, a, b, accuracy=1e-3):\n",
    "    phi = (1 + np.sqrt(5)) / 2\n",
    "    while abs(b - a) > accuracy:\n",
    "        x1 = b - (b - a) / phi\n",
    "        x2 = a + (b - a) / phi\n",
    "        if func(x1) < func(x2):  # searching for minimum\n",
    "            a = x1\n",
    "        else:\n",
    "            b = x2\n",
    "    return (a + b) / 2\n",
    "\n",
    "def neg_efficiency(T): # making negative\n",
    "    return -efficiency(T)\n",
    "\n",
    "# Initial search interval\n",
    "a = 300  # lower bound\n",
    "b = 10000  # upper bound\n",
    "\n",
    "# golden ratio search\n",
    "max_efficiency_temp = golden_ratio_search(neg_efficiency, a, b)\n",
    "\n",
    "print(\"Maximum efficiency temp is: {:.2f} K\".format(max_efficiency_temp))"
   ]
  },
  {
   "cell_type": "markdown",
   "id": "426e9864",
   "metadata": {},
   "source": [
    "part c\n",
    "\n",
    "It would not be practical to run a tungeston-filament lightbulb at the temperature above because:\n",
    "The temperature is much higher than the melting and boiling point of tungeston.\n",
    "It would require a lot of energy to power it at that temperature.\n",
    "It would not last very long.\n",
    "It would be unsafe."
   ]
  },
  {
   "cell_type": "markdown",
   "id": "cd7d0632",
   "metadata": {},
   "source": [
    "## 6.11"
   ]
  },
  {
   "cell_type": "code",
   "execution_count": 15,
   "id": "7e72bc5b",
   "metadata": {},
   "outputs": [
    {
     "name": "stdout",
     "output_type": "stream",
     "text": [
      "x = 0.7968126311118457\n",
      "Number of iterations: 14\n"
     ]
    }
   ],
   "source": [
    "# taken from 6.10\n",
    "\n",
    "# part a is in pdf\n",
    "\n",
    "# part b\n",
    "\n",
    "import math\n",
    "\n",
    "c = 2\n",
    "accuracy = 1e-6\n",
    "\n",
    "def solve(c, accuracy):\n",
    "    x_old = 0\n",
    "    x = 1\n",
    "    num_iterations = 0\n",
    "    while abs(x - x_old) > accuracy:\n",
    "        x_old = x\n",
    "        x = 1 - math.exp(-c*x_old)\n",
    "        num_iterations += 1\n",
    "    return x, num_iterations\n",
    "\n",
    "sol, iterations = solve(c, accuracy)\n",
    "\n",
    "print(\"x =\", sol)\n",
    "print(\"Number of iterations:\", iterations)"
   ]
  },
  {
   "cell_type": "code",
   "execution_count": 16,
   "id": "48f90e7d",
   "metadata": {},
   "outputs": [
    {
     "name": "stdout",
     "output_type": "stream",
     "text": [
      "omega: 0.5\n",
      "x = 0.7968121566399139\n",
      "Number of iterations: 5\n"
     ]
    }
   ],
   "source": [
    "# part c\n",
    "\n",
    "import math\n",
    "\n",
    "c = 2\n",
    "accuracy = 1e-6\n",
    "\n",
    "def overrelaxation(c, accuracy, omega):\n",
    "    x_old = 0\n",
    "    x = 1\n",
    "    num_iterations = 0\n",
    "    while True:\n",
    "        x_old = x\n",
    "        x_prime = 1 - math.exp(-c * x_old)\n",
    "        x = x_old + (1 + omega) * (x_prime - x_old)\n",
    "        num_iterations += 1\n",
    "        if abs(x - x_old) < accuracy:\n",
    "            break\n",
    "    return x, num_iterations\n",
    "\n",
    "omega = 0.5  # given value of omega to start with\n",
    "sol, iterations = overrelaxation(c, accuracy, omega)\n",
    "\n",
    "print(\"omega:\", omega)\n",
    "print(\"x =\", sol)\n",
    "print(\"Number of iterations:\", iterations)\n"
   ]
  },
  {
   "cell_type": "markdown",
   "id": "295f5359",
   "metadata": {},
   "source": [
    "part d:\n",
    "\n",
    "Yes because a negative value of omega can be faster when a function has concave regions because under-relaxation can be used."
   ]
  }
 ],
 "metadata": {
  "kernelspec": {
   "display_name": "Python 3 (ipykernel)",
   "language": "python",
   "name": "python3"
  },
  "language_info": {
   "codemirror_mode": {
    "name": "ipython",
    "version": 3
   },
   "file_extension": ".py",
   "mimetype": "text/x-python",
   "name": "python",
   "nbconvert_exporter": "python",
   "pygments_lexer": "ipython3",
   "version": "3.10.9"
  }
 },
 "nbformat": 4,
 "nbformat_minor": 5
}
